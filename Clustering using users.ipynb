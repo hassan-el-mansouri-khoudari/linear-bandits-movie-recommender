{
 "cells": [
  {
   "cell_type": "code",
   "execution_count": 1,
   "metadata": {},
   "outputs": [],
   "source": [
    "import numpy as np\n",
    "import matplotlib.pyplot as plt\n",
    "from bandits_utils import *"
   ]
  },
  {
   "cell_type": "code",
   "execution_count": 58,
   "metadata": {},
   "outputs": [],
   "source": [
    "def generate_matrix(n_users, n_movies, prob) :\n",
    "    # We fill in the matrix with a non-null value with probability prob to obtain a scarce matrix\n",
    "    Ratings = []\n",
    "    for i in range(n_users*n_movies):\n",
    "        if np.random.random()>prob :\n",
    "            Ratings.append(0)\n",
    "        else : \n",
    "            Ratings.append(np.random.randint(1,6))\n",
    "    Ratings = np.array(Ratings).reshape((n_users,n_movies))\n",
    "    return Ratings"
   ]
  },
  {
   "cell_type": "code",
   "execution_count": 128,
   "metadata": {},
   "outputs": [
    {
     "data": {
      "text/plain": [
       "array([[3, 1, 3, 0, 0, 1, 0, 3, 2, 2],\n",
       "       [4, 1, 0, 5, 0, 3, 0, 5, 2, 3],\n",
       "       [0, 1, 4, 5, 5, 0, 0, 0, 2, 0],\n",
       "       [0, 5, 0, 0, 5, 4, 1, 5, 2, 4],\n",
       "       [4, 0, 2, 4, 0, 0, 3, 4, 3, 0]])"
      ]
     },
     "execution_count": 128,
     "metadata": {},
     "output_type": "execute_result"
    }
   ],
   "source": [
    "R = generate_matrix(5,10,0.6)\n",
    "R"
   ]
  },
  {
   "cell_type": "markdown",
   "metadata": {},
   "source": [
    "$$R \\sim U \\cdot M$$"
   ]
  },
  {
   "cell_type": "code",
   "execution_count": 126,
   "metadata": {},
   "outputs": [],
   "source": [
    "from scipy.sparse.linalg import svds\n",
    "from sklearn.decomposition import NMF\n",
    "\n",
    "def fill_matrix_MF(ratings, d, max_iter = 1000):\n",
    "    \"\"\"\n",
    "    Returns a predicted matrix using matrix factorization to deal with zeros(non rated movies)\n",
    "    \"\"\"\n",
    "\n",
    "    model = NMF(n_components=d, init='random', random_state=0, max_iter = max_iter)\n",
    "\n",
    "    U = model.fit_transform(R)\n",
    "    M = model.components_\n",
    "\n",
    "    return U@M"
   ]
  },
  {
   "cell_type": "code",
   "execution_count": 127,
   "metadata": {},
   "outputs": [
    {
     "data": {
      "text/plain": [
       "array([[1.8753135 , 3.16117826, 0.49475305, 1.4079474 , 0.43414357,\n",
       "        1.53079635, 1.60800488, 1.31807916, 1.92758512, 0.12268535],\n",
       "       [0.33623739, 0.56678862, 0.08870756, 0.25244023, 0.07784048,\n",
       "        0.27446663, 0.28830986, 0.23632715, 0.34560952, 0.02199707],\n",
       "       [1.89297255, 3.19094578, 0.49941194, 1.42120546, 0.43823172,\n",
       "        1.54521123, 1.6231468 , 1.33049097, 1.9457364 , 0.12384063],\n",
       "       [2.71188812, 4.57137529, 0.71546167, 2.03603069, 0.62781438,\n",
       "        2.21368237, 2.32533352, 1.90607236, 2.78747804, 0.17741511],\n",
       "       [2.44760286, 4.12587493, 0.64573682, 1.83761067, 0.56663115,\n",
       "        1.99794942, 2.09871968, 1.72031733, 2.51582621, 0.16012524]])"
      ]
     },
     "execution_count": 127,
     "metadata": {},
     "output_type": "execute_result"
    }
   ],
   "source": [
    "fill_matrix_MF(R,1)"
   ]
  },
  {
   "cell_type": "code",
   "execution_count": null,
   "metadata": {},
   "outputs": [],
   "source": []
  },
  {
   "cell_type": "code",
   "execution_count": null,
   "metadata": {},
   "outputs": [],
   "source": []
  }
 ],
 "metadata": {
  "kernelspec": {
   "display_name": "Python 3",
   "language": "python",
   "name": "python3"
  },
  "language_info": {
   "codemirror_mode": {
    "name": "ipython",
    "version": 3
   },
   "file_extension": ".py",
   "mimetype": "text/x-python",
   "name": "python",
   "nbconvert_exporter": "python",
   "pygments_lexer": "ipython3",
   "version": "3.7.3"
  }
 },
 "nbformat": 4,
 "nbformat_minor": 2
}
