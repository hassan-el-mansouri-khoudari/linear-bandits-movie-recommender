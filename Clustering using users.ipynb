{
 "cells": [
  {
   "cell_type": "code",
   "execution_count": 4,
   "metadata": {},
   "outputs": [],
   "source": [
    "import numpy as np\n",
    "import matplotlib.pyplot as plt\n",
    "from bandits_utils import *\n",
    "import pandas as pd"
   ]
  },
  {
   "cell_type": "markdown",
   "metadata": {},
   "source": [
    "## Work with dataframe"
   ]
  },
  {
   "cell_type": "code",
   "execution_count": 6,
   "metadata": {},
   "outputs": [],
   "source": [
    "ratings = pd.read_csv('ml-1m/ratings.dat', sep='::', \n",
    "                        names = ['UserID', 'MovieID', 'Rating', 'Timestamp'],\n",
    "                        encoding = 'latin1',\n",
    "                        engine = 'python')\n",
    "movies  = pd.read_csv('ml-1m/movies.dat',  sep='::',\n",
    "                        names = ['MovieID', 'Title', 'Genres'], \n",
    "                        encoding = 'latin1',\n",
    "                        engine ='python')\n",
    "users   = pd.read_csv('ml-1m/users.dat',  sep='::', \n",
    "                        names = ['UserID', 'Gender', 'Age', 'Occupation', 'Zip'], \n",
    "                        encoding = 'latin1',\n",
    "                        engine = 'python')"
   ]
  },
  {
   "cell_type": "code",
   "execution_count": 7,
   "metadata": {},
   "outputs": [
    {
     "data": {
      "text/plain": [
       "MovieID\n",
       "1      2077\n",
       "11     1033\n",
       "21     1356\n",
       "32     1511\n",
       "34     1751\n",
       "39     1362\n",
       "47     1137\n",
       "50     1783\n",
       "110    2443\n",
       "111    1240\n",
       "dtype: int64"
      ]
     },
     "execution_count": 7,
     "metadata": {},
     "output_type": "execute_result"
    }
   ],
   "source": [
    "N = 1000\n",
    "ratings_count = ratings.groupby(by='MovieID', as_index=True).size()\n",
    "# top_ratings = ratings_count.sort_values(ascending=False)[:N]\n",
    "top_ratings = ratings_count[ratings_count>=N]\n",
    "top_ratings.head(10)"
   ]
  },
  {
   "cell_type": "code",
   "execution_count": 8,
   "metadata": {},
   "outputs": [
    {
     "name": "stdout",
     "output_type": "stream",
     "text": [
      "Shape: (305373, 4)\n"
     ]
    },
    {
     "data": {
      "text/html": [
       "<div>\n",
       "<style scoped>\n",
       "    .dataframe tbody tr th:only-of-type {\n",
       "        vertical-align: middle;\n",
       "    }\n",
       "\n",
       "    .dataframe tbody tr th {\n",
       "        vertical-align: top;\n",
       "    }\n",
       "\n",
       "    .dataframe thead th {\n",
       "        text-align: right;\n",
       "    }\n",
       "</style>\n",
       "<table border=\"1\" class=\"dataframe\">\n",
       "  <thead>\n",
       "    <tr style=\"text-align: right;\">\n",
       "      <th></th>\n",
       "      <th>UserID</th>\n",
       "      <th>MovieID</th>\n",
       "      <th>Rating</th>\n",
       "      <th>Timestamp</th>\n",
       "    </tr>\n",
       "  </thead>\n",
       "  <tbody>\n",
       "    <tr>\n",
       "      <th>0</th>\n",
       "      <td>1</td>\n",
       "      <td>1193</td>\n",
       "      <td>5</td>\n",
       "      <td>978300760</td>\n",
       "    </tr>\n",
       "    <tr>\n",
       "      <th>3</th>\n",
       "      <td>1</td>\n",
       "      <td>3408</td>\n",
       "      <td>4</td>\n",
       "      <td>978300275</td>\n",
       "    </tr>\n",
       "    <tr>\n",
       "      <th>4</th>\n",
       "      <td>1</td>\n",
       "      <td>2355</td>\n",
       "      <td>5</td>\n",
       "      <td>978824291</td>\n",
       "    </tr>\n",
       "    <tr>\n",
       "      <th>5</th>\n",
       "      <td>1</td>\n",
       "      <td>1197</td>\n",
       "      <td>3</td>\n",
       "      <td>978302268</td>\n",
       "    </tr>\n",
       "    <tr>\n",
       "      <th>7</th>\n",
       "      <td>1</td>\n",
       "      <td>2804</td>\n",
       "      <td>5</td>\n",
       "      <td>978300719</td>\n",
       "    </tr>\n",
       "    <tr>\n",
       "      <th>9</th>\n",
       "      <td>1</td>\n",
       "      <td>919</td>\n",
       "      <td>4</td>\n",
       "      <td>978301368</td>\n",
       "    </tr>\n",
       "    <tr>\n",
       "      <th>10</th>\n",
       "      <td>1</td>\n",
       "      <td>595</td>\n",
       "      <td>5</td>\n",
       "      <td>978824268</td>\n",
       "    </tr>\n",
       "    <tr>\n",
       "      <th>13</th>\n",
       "      <td>1</td>\n",
       "      <td>2918</td>\n",
       "      <td>4</td>\n",
       "      <td>978302124</td>\n",
       "    </tr>\n",
       "    <tr>\n",
       "      <th>15</th>\n",
       "      <td>1</td>\n",
       "      <td>2791</td>\n",
       "      <td>4</td>\n",
       "      <td>978302188</td>\n",
       "    </tr>\n",
       "    <tr>\n",
       "      <th>19</th>\n",
       "      <td>1</td>\n",
       "      <td>2797</td>\n",
       "      <td>4</td>\n",
       "      <td>978302039</td>\n",
       "    </tr>\n",
       "  </tbody>\n",
       "</table>\n",
       "</div>"
      ],
      "text/plain": [
       "    UserID  MovieID  Rating  Timestamp\n",
       "0        1     1193       5  978300760\n",
       "3        1     3408       4  978300275\n",
       "4        1     2355       5  978824291\n",
       "5        1     1197       3  978302268\n",
       "7        1     2804       5  978300719\n",
       "9        1      919       4  978301368\n",
       "10       1      595       5  978824268\n",
       "13       1     2918       4  978302124\n",
       "15       1     2791       4  978302188\n",
       "19       1     2797       4  978302039"
      ]
     },
     "execution_count": 8,
     "metadata": {},
     "output_type": "execute_result"
    }
   ],
   "source": [
    "movies_topN = movies[movies.MovieID.isin(top_ratings.index)]\n",
    "# print('Shape: {}'.format(movies_topN.shape))\n",
    "# movies_topN\n",
    "ratings_topN = ratings[ratings.MovieID.isin(top_ratings.index)]\n",
    "print('Shape: {}'.format(ratings_topN.shape))\n",
    "ratings_topN.head(10)"
   ]
  },
  {
   "cell_type": "code",
   "execution_count": 9,
   "metadata": {},
   "outputs": [
    {
     "name": "stdout",
     "output_type": "stream",
     "text": [
      "Number of users = 6039 | Number of movies = 207\n"
     ]
    }
   ],
   "source": [
    "n_users = ratings_topN.UserID.unique().shape[0]\n",
    "n_movies = ratings_topN.MovieID.unique().shape[0]\n",
    "print('Number of users = {} | Number of movies = {}'.format(n_users, n_movies))"
   ]
  },
  {
   "cell_type": "code",
   "execution_count": 10,
   "metadata": {},
   "outputs": [],
   "source": [
    "R_df = ratings_topN.pivot(index = 'UserID', columns ='MovieID', values = 'Rating').fillna(0)\n",
    "R = np.array(R_df)"
   ]
  },
  {
   "cell_type": "markdown",
   "metadata": {},
   "source": [
    "### Work with generated matrix"
   ]
  },
  {
   "cell_type": "code",
   "execution_count": 67,
   "metadata": {},
   "outputs": [],
   "source": [
    "def generate_matrix(n_users, n_movies, prob) :\n",
    "    # We fill in the matrix with a non-null value with probability prob to obtain a scarce matrix\n",
    "    Ratings = []\n",
    "    for i in range(n_users*n_movies):\n",
    "        if np.random.random()>prob :\n",
    "            Ratings.append(0)\n",
    "        else : \n",
    "            Ratings.append(np.random.randint(1,6))\n",
    "    Ratings = np.array(Ratings).reshape((n_users,n_movies))\n",
    "    return Ratings"
   ]
  },
  {
   "cell_type": "code",
   "execution_count": 68,
   "metadata": {},
   "outputs": [
    {
     "data": {
      "text/plain": [
       "array([[5, 2, 4, ..., 0, 1, 3],\n",
       "       [1, 0, 0, ..., 0, 1, 0],\n",
       "       [5, 1, 2, ..., 1, 4, 0],\n",
       "       ...,\n",
       "       [1, 0, 5, ..., 1, 5, 0],\n",
       "       [5, 0, 2, ..., 2, 3, 5],\n",
       "       [3, 4, 2, ..., 4, 0, 0]])"
      ]
     },
     "execution_count": 68,
     "metadata": {},
     "output_type": "execute_result"
    }
   ],
   "source": [
    "R = generate_matrix(30,60,0.6)\n",
    "R"
   ]
  },
  {
   "cell_type": "markdown",
   "metadata": {},
   "source": [
    "$$R \\sim U \\cdot M$$"
   ]
  },
  {
   "cell_type": "code",
   "execution_count": 11,
   "metadata": {},
   "outputs": [],
   "source": [
    "from scipy.sparse.linalg import svds\n",
    "from sklearn.decomposition import NMF\n",
    "\n",
    "def fill_matrix_MF(ratings, d, max_iter = 1000):\n",
    "    \"\"\"\n",
    "    Returns a predicted matrix using matrix factorization to deal with zeros(non rated movies)\n",
    "    \"\"\"\n",
    "\n",
    "    model = NMF(n_components=d, init='random', random_state=0, max_iter = max_iter)\n",
    "\n",
    "    U = model.fit_transform(R)\n",
    "    M = model.components_\n",
    "\n",
    "    return U@M"
   ]
  },
  {
   "cell_type": "code",
   "execution_count": 12,
   "metadata": {},
   "outputs": [
    {
     "data": {
      "text/plain": [
       "array([[0.99895209, 0.57589131, 0.5928224 , ..., 0.45806756, 0.38231285,\n",
       "        0.45297197],\n",
       "       [1.64036718, 0.87907152, 1.05393844, ..., 0.93915027, 0.71838486,\n",
       "        1.26010558],\n",
       "       [0.78432038, 0.29891384, 0.53085729, ..., 0.36453973, 0.27038005,\n",
       "        0.57428076],\n",
       "       ...,\n",
       "       [0.14842544, 0.04905585, 0.09905826, ..., 0.05286373, 0.04054158,\n",
       "        0.08210168],\n",
       "       [0.53104224, 0.0823015 , 0.35333527, ..., 0.04699657, 0.04564213,\n",
       "        0.09598709],\n",
       "       [2.03091306, 0.72702888, 1.27177478, ..., 0.50908593, 0.44656117,\n",
       "        0.55954077]])"
      ]
     },
     "execution_count": 12,
     "metadata": {},
     "output_type": "execute_result"
    }
   ],
   "source": [
    "fill_matrix_MF(R,3)"
   ]
  },
  {
   "cell_type": "code",
   "execution_count": 71,
   "metadata": {},
   "outputs": [
    {
     "name": "stdout",
     "output_type": "stream",
     "text": [
      "[[5 2 4 ... 0 1 3]\n",
      " [1 0 0 ... 0 1 0]\n",
      " [5 1 2 ... 1 4 0]\n",
      " ...\n",
      " [0 4 0 ... 0 3 0]\n",
      " [1 0 5 ... 1 5 0]\n",
      " [5 0 2 ... 2 3 5]]\n"
     ]
    }
   ],
   "source": [
    "user = R[-1]\n",
    "R = R[:-1]\n",
    "print(R)"
   ]
  },
  {
   "cell_type": "markdown",
   "metadata": {},
   "source": [
    "## Finding out clusters in our matrix"
   ]
  },
  {
   "cell_type": "code",
   "execution_count": 15,
   "metadata": {},
   "outputs": [
    {
     "data": {
      "text/plain": [
       "Text(0.5, 1.0, 'Elbow curve')"
      ]
     },
     "execution_count": 15,
     "metadata": {},
     "output_type": "execute_result"
    },
    {
     "data": {
      "image/png": "[encoded data removed]",
      "text/plain": [
       "<Figure size 1080x360 with 1 Axes>"
      ]
     },
     "metadata": {
      "needs_background": "light"
     },
     "output_type": "display_data"
    }
   ],
   "source": [
    "from sklearn.cluster import KMeans\n",
    "import matplotlib.pyplot as plt\n",
    "\n",
    "distorsions = []\n",
    "for k in range(2, 50):\n",
    "    kmeans = KMeans(n_clusters=k)\n",
    "    kmeans.fit(R)\n",
    "    distorsions.append(kmeans.inertia_)\n",
    "\n",
    "fig = plt.figure(figsize=(15, 5))\n",
    "plt.plot(range(2, 50), distorsions)\n",
    "plt.grid(True)\n",
    "plt.title('Elbow curve')"
   ]
  },
  {
   "cell_type": "code",
   "execution_count": 16,
   "metadata": {},
   "outputs": [
    {
     "data": {
      "text/plain": [
       "Text(0.5, 1.0, 'Elbow curve')"
      ]
     },
     "execution_count": 16,
     "metadata": {},
     "output_type": "execute_result"
    },
    {
     "data": {
      "image/png": "[encoded data removed]",
      "text/plain": [
       "<Figure size 1080x360 with 1 Axes>"
      ]
     },
     "metadata": {
      "needs_background": "light"
     },
     "output_type": "display_data"
    }
   ],
   "source": [
    "from sklearn.cluster import KMeans\n",
    "import matplotlib.pyplot as plt\n",
    "\n",
    "distorsions = []\n",
    "for k in range(2, 10):\n",
    "    kmeans = KMeans(n_clusters=k)\n",
    "    kmeans.fit(R)\n",
    "    distorsions.append(kmeans.inertia_)\n",
    "\n",
    "fig = plt.figure(figsize=(15, 5))\n",
    "plt.plot(range(2, 10), distorsions)\n",
    "plt.grid(True)\n",
    "plt.title('Elbow curve')"
   ]
  },
  {
   "cell_type": "code",
   "execution_count": 17,
   "metadata": {},
   "outputs": [
    {
     "name": "stdout",
     "output_type": "stream",
     "text": [
      "[2 0 2 ... 2 6 3]\n"
     ]
    }
   ],
   "source": [
    "#Choose number of clusters\n",
    "nb_clusters = 7\n",
    "labels = KMeans(nb_clusters).fit(R).labels_\n",
    "print(labels)\n",
    "clusters_rating_mean = [R]"
   ]
  },
  {
   "cell_type": "markdown",
   "metadata": {},
   "source": [
    "## Clusters_rating_mean is a matrix of size (M movies x C clusters), in each column there is the mean rating of the cluster"
   ]
  },
  {
   "cell_type": "code",
   "execution_count": 18,
   "metadata": {},
   "outputs": [],
   "source": [
    "clusters_rating_mean = R.T@np.eye(nb_clusters)[labels]\n",
    "for i in range(nb_clusters):\n",
    "    clusters_rating_mean[:,i] = clusters_rating_mean[:,i]/np.count_nonzero(labels == i)"
   ]
  },
  {
   "cell_type": "code",
   "execution_count": 19,
   "metadata": {},
   "outputs": [],
   "source": [
    "best_movies_by_cluster = np.argsort(-1*clusters_rating_mean, axis=0)"
   ]
  },
  {
   "cell_type": "code",
   "execution_count": 20,
   "metadata": {},
   "outputs": [
    {
     "data": {
      "text/plain": [
       "array([ 63,  12,  65, 154,  69,  29,  80,  24,  90,   8, 111,  64, 135,\n",
       "        52,  87, 174, 157,  23,  66,  40,  71, 114, 131,  17,  31,  98,\n",
       "        60,   0,  58,  37, 108,  21, 167,  32, 197, 166, 198,  22, 150,\n",
       "       139,  94,  36, 172, 101,  14, 110,  26,  86,  41,  99, 178, 158,\n",
       "        73,  15,  96, 126,  59,  75,  16, 206, 179, 185, 113,  97, 189,\n",
       "        25, 132, 140,  13,  35, 147, 112, 120, 182, 170, 156, 128,  61,\n",
       "       109, 141,  85, 149, 175, 153,  30, 115, 133, 134,   7,  53,  46,\n",
       "        93,  74,   3,  38, 169, 105,  28,  81,   2, 130, 201, 202,  49,\n",
       "       100,  92, 195, 168,  20, 199, 194, 162,  54, 127, 102,  19, 137,\n",
       "        27,  33, 192, 125, 204, 180, 136, 151,   4, 107, 117, 123, 177,\n",
       "        10, 138,   6, 171, 152,  11, 183, 164,  56, 103,  88, 188, 163,\n",
       "       104, 122,  67,  39, 187, 193, 159, 176, 160,  70, 143, 142, 129,\n",
       "        55, 203,  78, 200,   5,  34, 106,  51, 190,  91,  18,   1, 145,\n",
       "       116,  84, 124, 144,  79, 205,  68,  44,  72, 181,  50, 191,  62,\n",
       "        76,  89, 165, 173, 121, 161, 196, 119,  95, 155, 186,  43, 148,\n",
       "         9,  47,  57, 118,  82, 146,  83,  45,  48, 184,  42,  77],\n",
       "      dtype=int64)"
      ]
     },
     "execution_count": 20,
     "metadata": {},
     "output_type": "execute_result"
    }
   ],
   "source": [
    "best_movies_by_cluster[:,1]"
   ]
  },
  {
   "cell_type": "code",
   "execution_count": 22,
   "metadata": {},
   "outputs": [],
   "source": [
    "def get_reward(movie, user) :\n",
    "    return user[movie]"
   ]
  },
  {
   "cell_type": "code",
   "execution_count": 23,
   "metadata": {},
   "outputs": [],
   "source": [
    "def UCB(cluster_index, delta, new_user, mu, T):\n",
    "    if T[cluster_index] == 0:\n",
    "        return 100000\n",
    "    else:\n",
    "        return mu[cluster_index] + np.sqrt(2 * np.log(1/delta)/T[cluster_index])"
   ]
  },
  {
   "cell_type": "code",
   "execution_count": 34,
   "metadata": {},
   "outputs": [],
   "source": [
    "def UCB_tot(n, new_user, delta, best_movies_by_cluster, k):\n",
    "    X = np.zeros(n) ##Réalisations (X_t)_t\n",
    "    T = np.zeros(k, dtype = int) ##T[i] = nb de fois où i a été tiré\n",
    "    arms_mat = np.zeros((n,k))\n",
    "    mu = np.zeros(k) ##mu[i] = moyenne empirique de i\n",
    "\n",
    "    A = np.zeros(n, dtype = int)\n",
    "    \n",
    "    for t in range(n):\n",
    "        all_A_t = np.zeros(k)\n",
    "        for i in range(k):\n",
    "            all_A_t[i] = UCB(i, delta, new_user, mu, T) ##On calcul UCB_i pour tous les bras\n",
    "        A[t] = np.argmax(all_A_t) ##On prend le bras qui a le UCB_i le plus haut\n",
    "        movie = best_movies_by_cluster[:,A[t]][T[A[t]]]\n",
    "        X[t] = get_reward(movie,new_user) ##On génère X_t la réalisation à partir du bras choisi\n",
    "        T[A[t]] += 1 ##Le bras i a été tiré une fois de plus\n",
    "        arms_mat[t, A[t]] = X[t] ##On stock la valeur de la réalisation dans une matrice\n",
    "        mu[A[t]] = 1/T[A[t]] * sum(arms_mat[:, A[t]]) ##On update la moyenne empirique\n",
    "#         Rn[t] = (t+1)*mu_star - T@mu ##On calcul le regret à l'instant t\n",
    "    return X, A, T, mu"
   ]
  },
  {
   "cell_type": "code",
   "execution_count": null,
   "metadata": {},
   "outputs": [],
   "source": [
    "# We take the new user to be a mean between two users of cluster 0 for instance\n",
    "new_user = np.mean(R[labels==0][:3],axis=0)"
   ]
  },
  {
   "cell_type": "code",
   "execution_count": 35,
   "metadata": {},
   "outputs": [
    {
     "name": "stdout",
     "output_type": "stream",
     "text": [
      "[0 1 2 3 4 5 6 0 2 6 3 0 1 2 2 6 0 0 0 0 2 3 2 2 2 6 2 0 0 0 0 0 4 5 2 0 0\n",
      " 2 0 1 4 4 4 4 5 0 0 4 2 0 2 0 0 6 6 1 1 1 1 1 1 3 3 3 3 3 3 5 5 5 5 5 5 5\n",
      " 5 5 5 0 6 0 0 2 0 5 2 2 2 3 3 4 4 0 0 0 2 0 1 1 1 5]\n",
      "[2.44047619 1.88888889 2.12962963 1.81818182 1.7037037  1.97777778\n",
      " 1.47619048]\n"
     ]
    }
   ],
   "source": [
    "n = 100\n",
    "delta = 1/(n**2)\n",
    "\n",
    "X_t, arms, T, mu= UCB_tot(n, new_user, delta, best_movies_by_cluster, nb_clusters)\n",
    "\n",
    "print(arms)\n",
    "print(mu)"
   ]
  },
  {
   "cell_type": "markdown",
   "metadata": {},
   "source": [
    "* We notice that cluster 0 is the one that has the best rating which is good since the new user is a combination of users of cluster 0 *"
   ]
  },
  {
   "cell_type": "code",
   "execution_count": 43,
   "metadata": {},
   "outputs": [],
   "source": [
    "# We take the new user to be a mean between two users of cluster 0 for instance\n",
    "new_user = (4*np.mean(R[labels==3][:4],axis=0) + 2*np.mean(R[labels==0][:2],axis=0))/6"
   ]
  },
  {
   "cell_type": "code",
   "execution_count": 44,
   "metadata": {},
   "outputs": [
    {
     "name": "stdout",
     "output_type": "stream",
     "text": [
      "[0 1 2 3 4 5 6 0 2 6 3 1 4 5 0 6 2 3 0 1 4 5 1 3 5 3 6 2 0 0 4 0 3 1 5 5 6\n",
      " 6 3 3 5 3 4 1 2 0 6 5 5 0 5 3 3 6 6 6 6 6 2 1 0 4 6 3 5 6 0 3 3 2 5 1 6 6\n",
      " 4 5 0 6 3 2 2 1 6 3 6 1 0 2 4 6 0 5 3 1 5 4 6 6 3 0 3 3 2 5 5 0 3 2 6 1 5\n",
      " 6 5 5 3 4 0 0 5 3 2 2 6 3 1 5 3 6 6 6 0 5 1 5 3 3 4 4 4 6 0 3 5 4 2 2 2 3\n",
      " 3 3 6 3 3 3 5 2 2 0 6 6 5 3 1 4 2 2 0 6 1 5 3 0 0 5 3 3 6 3 1 4 3 6 5 6 2\n",
      " 2 3 0 5 6 3 1 4 3 5 6 6 6 0 0]\n",
      "[27 18 23 43 17 32 40]\n",
      "[2.35802469 2.14814815 2.3115942  2.57364341 2.11764706 2.41666667\n",
      " 2.50833333]\n"
     ]
    }
   ],
   "source": [
    "n = 200\n",
    "delta = 1/(n**2)\n",
    "\n",
    "X_t, arms, T, mu= UCB_tot(n, new_user, delta, best_movies_by_cluster, nb_clusters)\n",
    "\n",
    "print(arms)\n",
    "print(T)\n",
    "print(mu)"
   ]
  },
  {
   "cell_type": "markdown",
   "metadata": {},
   "source": [
    "* Here, we notice that cluster 3 is the one with the highest rating and it's reasonable since the new user is 'more of a cluster 3 person than of a cluster 0' *"
   ]
  }
 ],
 "metadata": {
  "kernelspec": {
   "display_name": "Python 3",
   "language": "python",
   "name": "python3"
  },
  "language_info": {
   "codemirror_mode": {
    "name": "ipython",
    "version": 3
   },
   "file_extension": ".py",
   "mimetype": "text/x-python",
   "name": "python",
   "nbconvert_exporter": "python",
   "pygments_lexer": "ipython3",
   "version": "3.7.3"
  }
 },
 "nbformat": 4,
 "nbformat_minor": 2
}
