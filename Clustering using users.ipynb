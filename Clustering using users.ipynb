{
 "cells": [
  {
   "cell_type": "code",
   "execution_count": 40,
   "metadata": {},
   "outputs": [],
   "source": [
    "import numpy as np\n",
    "import matplotlib.pyplot as plt\n",
    "from bandits_utils import *"
   ]
  },
  {
   "cell_type": "code",
   "execution_count": 67,
   "metadata": {},
   "outputs": [],
   "source": [
    "def generate_matrix(n_users, n_movies, prob) :\n",
    "    # We fill in the matrix with a non-null value with probability prob to obtain a scarce matrix\n",
    "    Ratings = []\n",
    "    for i in range(n_users*n_movies):\n",
    "        if np.random.random()>prob :\n",
    "            Ratings.append(0)\n",
    "        else : \n",
    "            Ratings.append(np.random.randint(1,6))\n",
    "    Ratings = np.array(Ratings).reshape((n_users,n_movies))\n",
    "    return Ratings"
   ]
  },
  {
   "cell_type": "code",
   "execution_count": 68,
   "metadata": {},
   "outputs": [
    {
     "data": {
      "text/plain": [
       "array([[5, 2, 4, ..., 0, 1, 3],\n",
       "       [1, 0, 0, ..., 0, 1, 0],\n",
       "       [5, 1, 2, ..., 1, 4, 0],\n",
       "       ...,\n",
       "       [1, 0, 5, ..., 1, 5, 0],\n",
       "       [5, 0, 2, ..., 2, 3, 5],\n",
       "       [3, 4, 2, ..., 4, 0, 0]])"
      ]
     },
     "execution_count": 68,
     "metadata": {},
     "output_type": "execute_result"
    }
   ],
   "source": [
    "R = generate_matrix(30,60,0.6)\n",
    "R"
   ]
  },
  {
   "cell_type": "markdown",
   "metadata": {},
   "source": [
    "$$R \\sim U \\cdot M$$"
   ]
  },
  {
   "cell_type": "code",
   "execution_count": 69,
   "metadata": {},
   "outputs": [],
   "source": [
    "from scipy.sparse.linalg import svds\n",
    "from sklearn.decomposition import NMF\n",
    "\n",
    "def fill_matrix_MF(ratings, d, max_iter = 1000):\n",
    "    \"\"\"\n",
    "    Returns a predicted matrix using matrix factorization to deal with zeros(non rated movies)\n",
    "    \"\"\"\n",
    "\n",
    "    model = NMF(n_components=d, init='random', random_state=0, max_iter = max_iter)\n",
    "\n",
    "    U = model.fit_transform(R)\n",
    "    M = model.components_\n",
    "\n",
    "    return U@M"
   ]
  },
  {
   "cell_type": "code",
   "execution_count": 70,
   "metadata": {},
   "outputs": [
    {
     "data": {
      "text/plain": [
       "array([[2.27788736, 1.0821339 , 2.12901772, ..., 1.60818416, 2.42207829,\n",
       "        1.67607533],\n",
       "       [2.38260774, 0.55780969, 2.20444199, ..., 1.4534298 , 2.47068333,\n",
       "        1.99061489],\n",
       "       [2.5432509 , 1.57987931, 2.13952498, ..., 1.985922  , 2.41935298,\n",
       "        1.95732464],\n",
       "       ...,\n",
       "       [2.43092411, 0.27237407, 2.85159672, ..., 1.26156751, 3.28137577,\n",
       "        1.56964242],\n",
       "       [4.08819968, 0.60645058, 2.01749472, ..., 2.64828658, 1.93930345,\n",
       "        5.2265115 ],\n",
       "       [1.9452799 , 1.8642021 , 0.8190793 , ..., 1.92180877, 0.83343599,\n",
       "        2.02774603]])"
      ]
     },
     "execution_count": 70,
     "metadata": {},
     "output_type": "execute_result"
    }
   ],
   "source": [
    "fill_matrix_MF(R,3)"
   ]
  },
  {
   "cell_type": "code",
   "execution_count": 71,
   "metadata": {},
   "outputs": [
    {
     "name": "stdout",
     "output_type": "stream",
     "text": [
      "[[5 2 4 ... 0 1 3]\n",
      " [1 0 0 ... 0 1 0]\n",
      " [5 1 2 ... 1 4 0]\n",
      " ...\n",
      " [0 4 0 ... 0 3 0]\n",
      " [1 0 5 ... 1 5 0]\n",
      " [5 0 2 ... 2 3 5]]\n"
     ]
    }
   ],
   "source": [
    "user = R[-1]\n",
    "R = R[:-1]\n",
    "print(R)"
   ]
  },
  {
   "cell_type": "markdown",
   "metadata": {},
   "source": [
    "## Finding out clusters in our matrix"
   ]
  },
  {
   "cell_type": "code",
   "execution_count": 72,
   "metadata": {},
   "outputs": [
    {
     "data": {
      "text/plain": [
       "Text(0.5, 1.0, 'Elbow curve')"
      ]
     },
     "execution_count": 72,
     "metadata": {},
     "output_type": "execute_result"
    },
    {
     "data": {
      "image/png": "[encoded data removed]",
      "text/plain": [
       "<Figure size 1080x360 with 1 Axes>"
      ]
     },
     "metadata": {
      "needs_background": "light"
     },
     "output_type": "display_data"
    }
   ],
   "source": [
    "from sklearn.cluster import KMeans\n",
    "import matplotlib.pyplot as plt\n",
    "\n",
    "distorsions = []\n",
    "for k in range(2, 10):\n",
    "    kmeans = KMeans(n_clusters=k)\n",
    "    kmeans.fit(R)\n",
    "    distorsions.append(kmeans.inertia_)\n",
    "\n",
    "fig = plt.figure(figsize=(15, 5))\n",
    "plt.plot(range(2, 10), distorsions)\n",
    "plt.grid(True)\n",
    "plt.title('Elbow curve')"
   ]
  },
  {
   "cell_type": "code",
   "execution_count": 73,
   "metadata": {},
   "outputs": [
    {
     "name": "stdout",
     "output_type": "stream",
     "text": [
      "[1 0 2 1 0 1 1 0 0 0 0 2 1 0 0 1 2 2 1 2 2 2 2 0 1 2 2 1 0]\n"
     ]
    }
   ],
   "source": [
    "#Choose number of clusters\n",
    "nb_clusters = 3\n",
    "labels = KMeans(nb_clusters).fit(R).labels_\n",
    "print(labels)\n",
    "clusters_rating_mean = [R]"
   ]
  },
  {
   "cell_type": "markdown",
   "metadata": {},
   "source": [
    "## Clusters_rating_mean is a matrix of size (M movies x C clusters), in each column there is the mean rating of the cluster"
   ]
  },
  {
   "cell_type": "code",
   "execution_count": 74,
   "metadata": {},
   "outputs": [],
   "source": [
    "clusters_rating_mean = R.T@np.eye(nb_clusters)[labels]\n",
    "for i in range(nb_clusters):\n",
    "    clusters_rating_mean[:,i] = clusters_rating_mean[:,i]/np.count_nonzero(labels == i)"
   ]
  },
  {
   "cell_type": "code",
   "execution_count": 75,
   "metadata": {},
   "outputs": [],
   "source": [
    "best_movies_by_cluster = np.argsort(-1*clusters_rating_mean, axis=0)"
   ]
  },
  {
   "cell_type": "code",
   "execution_count": 76,
   "metadata": {},
   "outputs": [
    {
     "data": {
      "text/plain": [
       "array([47, 36, 51, 25,  8, 35,  0,  2, 27, 46, 22, 41, 26, 56, 18, 11, 15,\n",
       "        5, 58, 38, 24, 50, 10, 52, 23, 44, 54, 48, 45, 12,  6, 19, 40,  1,\n",
       "       32, 21, 14, 34, 57, 17, 16, 49, 29,  7,  9, 33, 31, 43, 42, 20, 13,\n",
       "       59,  4, 30, 37, 53, 55, 28,  3, 39], dtype=int64)"
      ]
     },
     "execution_count": 76,
     "metadata": {},
     "output_type": "execute_result"
    }
   ],
   "source": [
    "best_movies_by_cluster[:,1]"
   ]
  },
  {
   "cell_type": "code",
   "execution_count": 84,
   "metadata": {},
   "outputs": [],
   "source": [
    "# We take the new user to be a mean between two users of cluster 0 for instance\n",
    "new_user = np.mean(R[labels==0][:2],axis=0)"
   ]
  },
  {
   "cell_type": "code",
   "execution_count": 85,
   "metadata": {},
   "outputs": [],
   "source": [
    "pointers_clusters = np.zeros(3)"
   ]
  },
  {
   "cell_type": "code",
   "execution_count": 86,
   "metadata": {},
   "outputs": [],
   "source": [
    "def get_reward(movie, user) :\n",
    "    return user[movie]"
   ]
  },
  {
   "cell_type": "code",
   "execution_count": 87,
   "metadata": {},
   "outputs": [],
   "source": [
    "def UCB(cluster_index, delta, new_user, mu, T):\n",
    "    if T[cluster_index] == 0:\n",
    "        return 100000\n",
    "    else:\n",
    "        return mu[cluster_index] + np.sqrt(2 * np.log(1/delta)/T[cluster_index])"
   ]
  },
  {
   "cell_type": "code",
   "execution_count": 88,
   "metadata": {},
   "outputs": [],
   "source": [
    "def UCB_tot(n, new_user, delta, best_movies_by_cluster, k):\n",
    "    X = np.zeros(n) ##Réalisations (X_t)_t\n",
    "    T = np.zeros(k, dtype = int) ##T[i] = nb de fois où i a été tiré\n",
    "    arms_mat = np.zeros((n,k))\n",
    "    mu = np.zeros(k) ##mu[i] = moyenne empirique de i\n",
    "\n",
    "    A = np.zeros(n, dtype = int)\n",
    "    \n",
    "    for t in range(n):\n",
    "        all_A_t = np.zeros(k)\n",
    "        for i in range(k):\n",
    "            all_A_t[i] = UCB(i, delta, new_user, mu, T) ##On calcul UCB_i pour tous les bras\n",
    "        A[t] = np.argmax(all_A_t) ##On prend le bras qui a le UCB_i le plus haut\n",
    "        print(T)\n",
    "        movie = best_movies_by_cluster[:,A[t]][T[A[t]]]\n",
    "        X[t] = get_reward(movie,new_user) ##On génère X_t la réalisation à partir du bras choisi\n",
    "        T[A[t]] += 1 ##Le bras i a été tiré une fois de plus\n",
    "        arms_mat[t, A[t]] = X[t] ##On stock la valeur de la réalisation dans une matrice\n",
    "        mu[A[t]] = 1/T[A[t]] * sum(arms_mat[:, A[t]]) ##On update la moyenne empirique\n",
    "#         Rn[t] = (t+1)*mu_star - T@mu ##On calcul le regret à l'instant t\n",
    "    return X, A, mu"
   ]
  },
  {
   "cell_type": "code",
   "execution_count": 91,
   "metadata": {},
   "outputs": [
    {
     "name": "stdout",
     "output_type": "stream",
     "text": [
      "[0 0 0]\n",
      "[0 0 0]\n",
      "[1 0 0]\n",
      "[1 1 0]\n",
      "[1 1 1]\n",
      "[2 1 1]\n"
     ]
    }
   ],
   "source": [
    "n = 5\n",
    "delta = 1/(n**2)\n",
    "\n",
    "X_t, arms, mu= UCB_tot(n, new_user, delta, best_movies_by_cluster, nb_clusters)"
   ]
  },
  {
   "cell_type": "code",
   "execution_count": 92,
   "metadata": {},
   "outputs": [
    {
     "data": {
      "text/plain": [
       "array([3.16666667, 2.5       , 0.5       ])"
      ]
     },
     "execution_count": 92,
     "metadata": {},
     "output_type": "execute_result"
    }
   ],
   "source": [
    "mu"
   ]
  },
  {
   "cell_type": "code",
   "execution_count": null,
   "metadata": {},
   "outputs": [],
   "source": []
  }
 ],
 "metadata": {
  "kernelspec": {
   "display_name": "Python 3",
   "language": "python",
   "name": "python3"
  },
  "language_info": {
   "codemirror_mode": {
    "name": "ipython",
    "version": 3
   },
   "file_extension": ".py",
   "mimetype": "text/x-python",
   "name": "python",
   "nbconvert_exporter": "python",
   "pygments_lexer": "ipython3",
   "version": "3.7.3"
  }
 },
 "nbformat": 4,
 "nbformat_minor": 2
}
