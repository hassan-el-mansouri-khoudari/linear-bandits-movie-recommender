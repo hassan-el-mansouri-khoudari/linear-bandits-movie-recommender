{
 "cells": [
  {
   "cell_type": "code",
   "execution_count": 2,
   "metadata": {},
   "outputs": [],
   "source": [
    "import numpy as np\n",
    "import matplotlib.pyplot as plt"
   ]
  },
  {
   "cell_type": "markdown",
   "metadata": {},
   "source": [
    "## Old"
   ]
  },
  {
   "cell_type": "code",
   "execution_count": 131,
   "metadata": {
    "scrolled": true
   },
   "outputs": [
    {
     "data": {
      "text/plain": [
       "[<matplotlib.lines.Line2D at 0x18aa291bac0>]"
      ]
     },
     "execution_count": 131,
     "metadata": {},
     "output_type": "execute_result"
    },
    {
     "data": {
      "image/png": "[encoded data removed]",
      "text/plain": [
       "<Figure size 432x288 with 1 Axes>"
      ]
     },
     "metadata": {
      "needs_background": "light"
     },
     "output_type": "display_data"
    }
   ],
   "source": [
    "# Arms = [np.random.normal(loc=4, scale=1.5), \n",
    "#         np.random.normal(loc=3, scale=3),\n",
    "#         np.random.normal(loc=5, scale=0.9),\n",
    "#         np.random.normal(loc=2.5, scale=7),\n",
    "#         np.random.normal(loc=4, scale=1.5), \n",
    "#         np.random.normal(loc=3, scale=3),\n",
    "#         np.random.normal(loc=5, scale=0.9),\n",
    "#         np.random.normal(loc=2.5, scale=7),\n",
    "#         np.random.normal(loc=4, scale=1.5), \n",
    "#         np.random.normal(loc=3, scale=3),\n",
    "#         np.random.normal(loc=5, scale=0.9),\n",
    "#         np.random.normal(loc=2.5, scale=7),\n",
    "#         np.random.normal(loc=4, scale=1.5), \n",
    "#         np.random.normal(loc=3, scale=3),\n",
    "#         np.random.normal(loc=5, scale=0.9),\n",
    "#         np.random.normal(loc=2.5, scale=7)]\n",
    "\n",
    "# n = 100\n",
    "# k = 4*4\n",
    "# delta = 0.1\n",
    "# X = np.zeros(n)\n",
    "# T = np.zeros(k)\n",
    "# arms_mat = np.zeros((n,k))\n",
    "# mu = np.zeros(k)\n",
    "\n",
    "# A = np.zeros(n, dtype = int)\n",
    "# for t in range(n):\n",
    "#     all_A_t = np.zeros(k)\n",
    "#     for i in range(k):\n",
    "#         all_A_t[i] = UCB(i, delta)\n",
    "#     A[t] = np.argmax(all_A_t)\n",
    "# #     print(T[A[t]])\n",
    "#     X[t] = Arms[int(A[t])]\n",
    "#     T[A[t]] += 1\n",
    "#     arms_mat[t, A[t]] = X[t]\n",
    "#     mu[A[t]] = 1/T[A[t]] * sum(arms_mat[:, A[t]])\n",
    "    \n",
    "# plt.plot(X)"
   ]
  },
  {
   "cell_type": "markdown",
   "metadata": {},
   "source": [
    "## Actual"
   ]
  },
  {
   "cell_type": "markdown",
   "metadata": {},
   "source": [
    "* Formule du regret"
   ]
  },
  {
   "cell_type": "markdown",
   "metadata": {},
   "source": [
    "$$\n",
    "R_n = n \\mu^{*} -  \\mathbf{E}\\left[\\sum_t X_t \\right] = n \\mu^{*} - \\sum \\mu_t = n \\mu^{*} - < T| \\mu >\n",
    "$$\n",
    "\n",
    "Avec $\\mu_t$ la moyenne de la distribution d'où est tirée $X_t$"
   ]
  },
  {
   "cell_type": "code",
   "execution_count": 3,
   "metadata": {},
   "outputs": [],
   "source": [
    "def UCB(i, delta, mu, T):\n",
    "    if T[i] == 0:\n",
    "        return 1000000000000\n",
    "    else:\n",
    "        return mu[i] + np.sqrt(2 * np.log(1/delta)/T[i])"
   ]
  },
  {
   "cell_type": "code",
   "execution_count": 102,
   "metadata": {},
   "outputs": [],
   "source": [
    "def UCB_tot(n, delta, k, means, std):\n",
    "    X = np.zeros(n) ##Réalisations (X_t)_t\n",
    "    T = np.zeros(k) ##T[i] = nb de fois où i a été tiré\n",
    "    arms_mat = np.zeros((n,k))\n",
    "    mu = np.zeros(k) ##mu[i] = moyenne empirique de i\n",
    "\n",
    "    A = np.zeros(n, dtype = int)\n",
    "    \n",
    "    ##Compute Rn at each iteration\n",
    "    Rn = np.zeros(n)\n",
    "    mu_star = np.max(means)\n",
    "    for t in range(n):\n",
    "        all_A_t = np.zeros(k)\n",
    "        for i in range(k):\n",
    "            all_A_t[i] = UCB(i, delta, mu, T) ##On calcul UCB_i pour tous les bras\n",
    "        A[t] = np.argmax(all_A_t) ##On prend le bras qui a le UCB_i le plus haut\n",
    "        X[t] = launch_arm(A[t]) ##On génère X_t la réalisation à partir du bras choisi\n",
    "        T[A[t]] += 1 ##Le bras i a été tiré une fois de plus\n",
    "        arms_mat[t, A[t]] = X[t] ##On stock la valeur de la réalisation dans une matrice\n",
    "        mu[A[t]] = 1/T[A[t]] * sum(arms_mat[:, A[t]]) ##On update la moyenne empirique\n",
    "        Rn[t] = (t+1)*mu_star - T@mu ##On calcul le regret à l'instant t\n",
    "    return X, Rn, A, mu\n"
   ]
  },
  {
   "cell_type": "code",
   "execution_count": 131,
   "metadata": {},
   "outputs": [
    {
     "data": {
      "text/plain": [
       "[<matplotlib.lines.Line2D at 0x208a4b736a0>]"
      ]
     },
     "execution_count": 131,
     "metadata": {},
     "output_type": "execute_result"
    },
    {
     "data": {
      "image/png": "[encoded data removed]",
      "text/plain": [
       "<Figure size 1008x288 with 2 Axes>"
      ]
     },
     "metadata": {
      "needs_background": "light"
     },
     "output_type": "display_data"
    }
   ],
   "source": [
    "n = 1000\n",
    "delta = 1/(n**2)\n",
    "\n",
    "#Total number of arms\n",
    "k = 50\n",
    "\n",
    "means = [100*np.random.rand() for i in range(k)]\n",
    "std = [5*np.random.rand() for i in range(k)]\n",
    "\n",
    "#Return reward of arm i\n",
    "def launch_arm(i):\n",
    "    ## La distribution doit être 1 sub-ussian\n",
    "    return np.random.normal(means[i],std[i])\n",
    "\n",
    "#on calcule la moyenne des résultats sur max_ite tentatives\n",
    "max_ite = 10\n",
    "X_t_mean = np.zeros((max_ite,n))\n",
    "Rn_mean = np.zeros((max_ite,n))\n",
    "for ite in range(max_ite):\n",
    "    X_t, Rn, arms, mu= UCB_tot(n, delta, k, means, std)\n",
    "    X_t_mean[ite] = X_t\n",
    "    Rn_mean[ite] = Rn\n",
    "\n",
    "plt.figure(figsize=(14, 4))\n",
    "plt.subplot(1,2,1)\n",
    "plt.plot(np.sum(X_t_mean,axis=0)/max_ite)\n",
    "plt.subplot(1,2,2)\n",
    "plt.plot(np.sum(Rn_mean,axis=0)/max_ite)\n"
   ]
  },
  {
   "cell_type": "markdown",
   "metadata": {},
   "source": [
    "**Bras choisis**"
   ]
  },
  {
   "cell_type": "code",
   "execution_count": 132,
   "metadata": {},
   "outputs": [
    {
     "data": {
      "text/plain": [
       "<matplotlib.collections.PathCollection at 0x208a4c532b0>"
      ]
     },
     "execution_count": 132,
     "metadata": {},
     "output_type": "execute_result"
    },
    {
     "data": {
      "image/png": "[encoded data removed]",
      "text/plain": [
       "<Figure size 432x288 with 1 Axes>"
      ]
     },
     "metadata": {
      "needs_background": "light"
     },
     "output_type": "display_data"
    }
   ],
   "source": [
    "plt.scatter(range(n),arms,s=0.5)"
   ]
  },
  {
   "cell_type": "code",
   "execution_count": null,
   "metadata": {},
   "outputs": [],
   "source": []
  }
 ],
 "metadata": {
  "kernelspec": {
   "display_name": "Python 3",
   "language": "python",
   "name": "python3"
  },
  "language_info": {
   "codemirror_mode": {
    "name": "ipython",
    "version": 3
   },
   "file_extension": ".py",
   "mimetype": "text/x-python",
   "name": "python",
   "nbconvert_exporter": "python",
   "pygments_lexer": "ipython3",
   "version": "3.7.3"
  }
 },
 "nbformat": 4,
 "nbformat_minor": 4
}
