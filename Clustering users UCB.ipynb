{
 "cells": [
  {
   "cell_type": "code",
   "execution_count": 39,
   "metadata": {},
   "outputs": [],
   "source": [
    "import numpy as np\n",
    "import matplotlib.pyplot as plt\n",
    "from films_utils import *\n",
    "from evaluation_utils import *\n",
    "import pandas as pd\n",
    "import random"
   ]
  },
  {
   "cell_type": "markdown",
   "metadata": {},
   "source": [
    "## Work with dataframe (To change using local library)"
   ]
  },
  {
   "cell_type": "code",
   "execution_count": 40,
   "metadata": {},
   "outputs": [],
   "source": [
    "ratings = pd.read_csv('ml-1m/ratings.dat', sep='::', \n",
    "                        names = ['UserID', 'MovieID', 'Rating', 'Timestamp'],\n",
    "                        encoding = 'latin1',\n",
    "                        engine = 'python')\n",
    "movies  = pd.read_csv('ml-1m/movies.dat',  sep='::',\n",
    "                        names = ['MovieID', 'Title', 'Genres'], \n",
    "                        encoding = 'latin1',\n",
    "                        engine ='python')\n",
    "users   = pd.read_csv('ml-1m/users.dat',  sep='::', \n",
    "                        names = ['UserID', 'Gender', 'Age', 'Occupation', 'Zip'], \n",
    "                        encoding = 'latin1',\n",
    "                        engine = 'python')"
   ]
  },
  {
   "cell_type": "code",
   "execution_count": 41,
   "metadata": {},
   "outputs": [
    {
     "data": {
      "text/plain": [
       "MovieID\n",
       "1      2077\n",
       "11     1033\n",
       "21     1356\n",
       "32     1511\n",
       "34     1751\n",
       "39     1362\n",
       "47     1137\n",
       "50     1783\n",
       "110    2443\n",
       "111    1240\n",
       "dtype: int64"
      ]
     },
     "execution_count": 41,
     "metadata": {},
     "output_type": "execute_result"
    }
   ],
   "source": [
    "N = 1000\n",
    "ratings_count = ratings.groupby(by='MovieID', as_index=True).size()\n",
    "# top_ratings = ratings_count.sort_values(ascending=False)[:N]\n",
    "top_ratings = ratings_count[ratings_count>=N]\n",
    "top_ratings.head(10)"
   ]
  },
  {
   "cell_type": "code",
   "execution_count": 42,
   "metadata": {},
   "outputs": [
    {
     "name": "stdout",
     "output_type": "stream",
     "text": [
      "Shape: (305373, 4)\n"
     ]
    },
    {
     "data": {
      "text/html": [
       "<div>\n",
       "<style scoped>\n",
       "    .dataframe tbody tr th:only-of-type {\n",
       "        vertical-align: middle;\n",
       "    }\n",
       "\n",
       "    .dataframe tbody tr th {\n",
       "        vertical-align: top;\n",
       "    }\n",
       "\n",
       "    .dataframe thead th {\n",
       "        text-align: right;\n",
       "    }\n",
       "</style>\n",
       "<table border=\"1\" class=\"dataframe\">\n",
       "  <thead>\n",
       "    <tr style=\"text-align: right;\">\n",
       "      <th></th>\n",
       "      <th>UserID</th>\n",
       "      <th>MovieID</th>\n",
       "      <th>Rating</th>\n",
       "      <th>Timestamp</th>\n",
       "    </tr>\n",
       "  </thead>\n",
       "  <tbody>\n",
       "    <tr>\n",
       "      <th>0</th>\n",
       "      <td>1</td>\n",
       "      <td>1193</td>\n",
       "      <td>5</td>\n",
       "      <td>978300760</td>\n",
       "    </tr>\n",
       "    <tr>\n",
       "      <th>3</th>\n",
       "      <td>1</td>\n",
       "      <td>3408</td>\n",
       "      <td>4</td>\n",
       "      <td>978300275</td>\n",
       "    </tr>\n",
       "    <tr>\n",
       "      <th>4</th>\n",
       "      <td>1</td>\n",
       "      <td>2355</td>\n",
       "      <td>5</td>\n",
       "      <td>978824291</td>\n",
       "    </tr>\n",
       "    <tr>\n",
       "      <th>5</th>\n",
       "      <td>1</td>\n",
       "      <td>1197</td>\n",
       "      <td>3</td>\n",
       "      <td>978302268</td>\n",
       "    </tr>\n",
       "    <tr>\n",
       "      <th>7</th>\n",
       "      <td>1</td>\n",
       "      <td>2804</td>\n",
       "      <td>5</td>\n",
       "      <td>978300719</td>\n",
       "    </tr>\n",
       "    <tr>\n",
       "      <th>9</th>\n",
       "      <td>1</td>\n",
       "      <td>919</td>\n",
       "      <td>4</td>\n",
       "      <td>978301368</td>\n",
       "    </tr>\n",
       "    <tr>\n",
       "      <th>10</th>\n",
       "      <td>1</td>\n",
       "      <td>595</td>\n",
       "      <td>5</td>\n",
       "      <td>978824268</td>\n",
       "    </tr>\n",
       "    <tr>\n",
       "      <th>13</th>\n",
       "      <td>1</td>\n",
       "      <td>2918</td>\n",
       "      <td>4</td>\n",
       "      <td>978302124</td>\n",
       "    </tr>\n",
       "    <tr>\n",
       "      <th>15</th>\n",
       "      <td>1</td>\n",
       "      <td>2791</td>\n",
       "      <td>4</td>\n",
       "      <td>978302188</td>\n",
       "    </tr>\n",
       "    <tr>\n",
       "      <th>19</th>\n",
       "      <td>1</td>\n",
       "      <td>2797</td>\n",
       "      <td>4</td>\n",
       "      <td>978302039</td>\n",
       "    </tr>\n",
       "  </tbody>\n",
       "</table>\n",
       "</div>"
      ],
      "text/plain": [
       "    UserID  MovieID  Rating  Timestamp\n",
       "0        1     1193       5  978300760\n",
       "3        1     3408       4  978300275\n",
       "4        1     2355       5  978824291\n",
       "5        1     1197       3  978302268\n",
       "7        1     2804       5  978300719\n",
       "9        1      919       4  978301368\n",
       "10       1      595       5  978824268\n",
       "13       1     2918       4  978302124\n",
       "15       1     2791       4  978302188\n",
       "19       1     2797       4  978302039"
      ]
     },
     "execution_count": 42,
     "metadata": {},
     "output_type": "execute_result"
    }
   ],
   "source": [
    "movies_topN = movies[movies.MovieID.isin(top_ratings.index)]\n",
    "# print('Shape: {}'.format(movies_topN.shape))\n",
    "# movies_topN\n",
    "ratings_topN = ratings[ratings.MovieID.isin(top_ratings.index)]\n",
    "print('Shape: {}'.format(ratings_topN.shape))\n",
    "ratings_topN.head(10)"
   ]
  },
  {
   "cell_type": "code",
   "execution_count": 43,
   "metadata": {},
   "outputs": [
    {
     "name": "stdout",
     "output_type": "stream",
     "text": [
      "Number of users = 6039 | Number of movies = 207\n"
     ]
    }
   ],
   "source": [
    "n_users = ratings_topN.UserID.unique().shape[0]\n",
    "n_movies = ratings_topN.MovieID.unique().shape[0]\n",
    "print('Number of users = {} | Number of movies = {}'.format(n_users, n_movies))"
   ]
  },
  {
   "cell_type": "code",
   "execution_count": 44,
   "metadata": {},
   "outputs": [],
   "source": [
    "R_df = ratings_topN.pivot(index = 'UserID', columns ='MovieID', values = 'Rating').fillna(0)\n",
    "R = np.array(R_df)"
   ]
  },
  {
   "cell_type": "markdown",
   "metadata": {},
   "source": [
    "# Méthode du coude pour déterminer l'intervalle de nb_clusters d'intérêt"
   ]
  },
  {
   "cell_type": "code",
   "execution_count": 7,
   "metadata": {},
   "outputs": [
    {
     "data": {
      "text/plain": [
       "Text(0.5, 1.0, 'Elbow curve')"
      ]
     },
     "execution_count": 7,
     "metadata": {},
     "output_type": "execute_result"
    },
    {
     "data": {
      "image/png": "[encoded data removed]",
      "text/plain": [
       "<Figure size 1080x360 with 1 Axes>"
      ]
     },
     "metadata": {
      "needs_background": "light"
     },
     "output_type": "display_data"
    }
   ],
   "source": [
    "from sklearn.cluster import KMeans\n",
    "import matplotlib.pyplot as plt\n",
    "\n",
    "R = fill_matrix_MF(R, d = 30)\n",
    "\n",
    "distorsions = []\n",
    "for k in range(2, 200, 10):\n",
    "    kmeans = KMeans(n_clusters=k)\n",
    "    kmeans.fit(R)\n",
    "    distorsions.append(kmeans.inertia_)\n",
    "\n",
    "fig = plt.figure(figsize=(15, 5))\n",
    "plt.plot(range(2, 200, 10), distorsions)\n",
    "plt.grid(True)\n",
    "plt.title('Elbow curve')"
   ]
  },
  {
   "cell_type": "markdown",
   "metadata": {},
   "source": [
    "# Fine tuning de nb_clusters"
   ]
  },
  {
   "cell_type": "code",
   "execution_count": 17,
   "metadata": {},
   "outputs": [],
   "source": [
    "nb_rounds = 15\n",
    "delta = 1/nb_rounds**2\n",
    "\n",
    "gain_ucb, gain_random, gain_best_avg = [], [], []\n",
    "d = 15\n",
    "R_d = fill_matrix_MF(R, d = d)\n",
    "\n",
    "for nb_clusters in range(2,80,4):\n",
    "\n",
    "    labels = get_labels_from_clustering(nb_clusters, R_d)\n",
    "    best_movies_by_cluster = get_best_movies_by_cluster(R, labels,nb_clusters)        \n",
    "    gain_ucb.append(gain_NDGC(R_d, delta, best_movies_by_cluster, nb_clusters, nb_rounds, method = \"UCB\"))\n",
    "    gain_random.append(gain_NDGC(R_d, delta, best_movies_by_cluster, nb_clusters, nb_rounds, method = \"random\"))\n",
    "    gain_best_avg.append(gain_NDGC(R_d, delta, best_movies_by_cluster, nb_clusters, nb_rounds, method = \"best_average\"))\n",
    "    "
   ]
  },
  {
   "cell_type": "code",
   "execution_count": 18,
   "metadata": {},
   "outputs": [
    {
     "data": {
      "text/plain": [
       "[<matplotlib.lines.Line2D at 0x2011c968710>]"
      ]
     },
     "execution_count": 18,
     "metadata": {},
     "output_type": "execute_result"
    },
    {
     "data": {
      "image/png": "[encoded data removed]",
      "text/plain": [
       "<Figure size 1080x360 with 1 Axes>"
      ]
     },
     "metadata": {
      "needs_background": "light"
     },
     "output_type": "display_data"
    }
   ],
   "source": [
    "fig = plt.figure(figsize=(15, 5))\n",
    "\n",
    "plt.plot(range(2,80,4), gain_ucb ,'g')\n",
    "plt.plot(range(2,80,4), gain_random ,'r')\n",
    "plt.plot(range(2,80,4), gain_best_avg ,'b')"
   ]
  },
  {
   "cell_type": "code",
   "execution_count": null,
   "metadata": {},
   "outputs": [],
   "source": [
    "nb_clusters = 6"
   ]
  },
  {
   "cell_type": "markdown",
   "metadata": {},
   "source": [
    "# Fine tuning de d"
   ]
  },
  {
   "cell_type": "code",
   "execution_count": 25,
   "metadata": {},
   "outputs": [],
   "source": [
    "nb_rounds = 30\n",
    "delta = 1/nb_rounds**2\n",
    "\n",
    "gain_ucb, gain_random, gain_best_avg = [], [], []\n",
    "\n",
    "for nb_clusters in [6]:\n",
    "\n",
    "    C_gain_ucb, C_gain_random, C_gain_best_avg = [], [], []\n",
    "    for d in range(5,86,10):\n",
    "        R_d = fill_matrix_MF(R, d = d)\n",
    "\n",
    "        labels = get_labels_from_clustering(nb_clusters, R_d)\n",
    "        best_movies_by_cluster = get_best_movies_by_cluster(R, labels,nb_clusters)        \n",
    "        C_gain_ucb.append(gain_NDGC(R_d, delta, best_movies_by_cluster, nb_clusters, nb_rounds, method = \"UCB\"))\n",
    "        C_gain_random.append(gain_NDGC(R_d, delta, best_movies_by_cluster, nb_clusters, nb_rounds, method = \"random\"))\n",
    "        C_gain_best_avg.append(gain_NDGC(R_d, delta, best_movies_by_cluster, nb_clusters, nb_rounds, method = \"best_average\"))\n",
    "    gain_ucb.append(C_gain_ucb)\n",
    "    gain_random.append(C_gain_random)\n",
    "    gain_best_avg.append(C_gain_best_avg)\n"
   ]
  },
  {
   "cell_type": "code",
   "execution_count": 26,
   "metadata": {},
   "outputs": [
    {
     "data": {
      "image/png": "[encoded data removed]",
      "text/plain": [
       "<Figure size 1080x360 with 1 Axes>"
      ]
     },
     "metadata": {
      "needs_background": "light"
     },
     "output_type": "display_data"
    }
   ],
   "source": [
    "\n",
    "for j in range(1):\n",
    "    fig = plt.figure(figsize=(15, 5))\n",
    "\n",
    "    plt.subplot(3,1,j+1)\n",
    "    \n",
    "    plt.plot(range(5,86,10), gain_ucb[j] ,'g')\n",
    "    plt.plot(range(5,86,10), gain_random[j] ,'r')\n",
    "    plt.plot(range(5,86,10), gain_best_avg[j] ,'b')\n"
   ]
  },
  {
   "cell_type": "code",
   "execution_count": 27,
   "metadata": {},
   "outputs": [],
   "source": [
    "d = 15"
   ]
  },
  {
   "cell_type": "markdown",
   "metadata": {},
   "source": [
    "Valeurs NGDC pour trois méthodes avec le Leave-One-Out :\n",
    "    * UCB : On recommande les films à travers l'utilisation de l'algo UCB\n",
    "    * Best-Average : On recommande les films par leur note moyenne\n",
    "    * Random : On recommande les films par hasard\n",
    "   "
   ]
  },
  {
   "cell_type": "code",
   "execution_count": 46,
   "metadata": {},
   "outputs": [],
   "source": [
    "R_d = fill_matrix_MF(R, d)\n",
    "labels = get_labels_from_clustering(nb_clusters, R_d)\n",
    "best_movies_by_cluster = get_best_movies_by_cluster(R_d, labels,nb_clusters)       "
   ]
  },
  {
   "cell_type": "code",
   "execution_count": 47,
   "metadata": {},
   "outputs": [
    {
     "name": "stdout",
     "output_type": "stream",
     "text": [
      "NGDC pour ucb : 0.4274865116169021\n",
      "NDGC pour best average 0.3656356438712425\n",
      "NDGC pour random rec 0.14892142687750043\n"
     ]
    }
   ],
   "source": [
    "print('NGDC pour ucb :',gain_NDGC(R_d, delta, best_movies_by_cluster, nb_clusters, nb_rounds = 30, method = \"UCB\"))\n",
    "print('NDGC pour best average', gain_NDGC(R_d, delta, best_movies_by_cluster, nb_clusters, nb_rounds = 30, method = \"best_average\"))\n",
    "print('NDGC pour random rec', gain_NDGC(R_d, delta, best_movies_by_cluster, nb_clusters, nb_rounds = 20, method = \"random\"))"
   ]
  },
  {
   "cell_type": "markdown",
   "metadata": {},
   "source": [
    "# Partie intuitive pour s'assurer du fonctionnement de l'algorithme"
   ]
  },
  {
   "cell_type": "code",
   "execution_count": 51,
   "metadata": {},
   "outputs": [
    {
     "name": "stdout",
     "output_type": "stream",
     "text": [
      "Les rewards des bras pour l'user du groupe 0 sont : [2.62210532 2.21949845 2.07103007 1.41443518 1.24391461 0.49084375]\n",
      "Les rewards des bras pour l'user du groupe 3 sont : [2.388506   2.49414513 2.31697623 3.7192107  3.70874185 1.13328977]\n"
     ]
    }
   ],
   "source": [
    "nb_rounds = 30\n",
    "delta = 1/(nb_rounds**2)\n",
    "\n",
    "R_d = fill_matrix_MF(R, d)\n",
    "labels = get_labels_from_clustering(nb_clusters, R_d)\n",
    "best_movies_by_cluster = get_best_movies_by_cluster(R_d, labels,nb_clusters)       \n",
    "\n",
    "\n",
    "# We take the new user to be a mean between two users of cluster 0 for instance\n",
    "new_user_group0 = np.mean(R_d[labels==0][0:10],axis = 0)\n",
    "\n",
    "new_user_group3 = np.mean(R_d[labels==3][0:10],axis = 0)\n",
    "\n",
    "\n",
    "_,_,_,mu_0= UCB_tot_film(nb_rounds, new_user_group0, delta, best_movies_by_cluster, nb_clusters)\n",
    "_,_,_,mu_3= UCB_tot_film(nb_rounds, new_user_group3, delta, best_movies_by_cluster, nb_clusters)\n",
    "\n",
    "print(\"Les rewards des bras pour l'user du groupe 0 sont :\", mu_0)\n",
    "print(\"Les rewards des bras pour l'user du groupe 3 sont :\", mu_3)"
   ]
  },
  {
   "cell_type": "markdown",
   "metadata": {},
   "source": [
    "* On voit que le premier bras(bras 0) pour l'user du groupe 0 et le troisième bras pour l'user du groupe 3. Ils reprèsentent les clusters avec la meilleure note et donc l'algorithme détermine plutot bien l'appartenance de nos utilisateurs)"
   ]
  }
 ],
 "metadata": {
  "kernelspec": {
   "display_name": "Python 3",
   "language": "python",
   "name": "python3"
  },
  "language_info": {
   "codemirror_mode": {
    "name": "ipython",
    "version": 3
   },
   "file_extension": ".py",
   "mimetype": "text/x-python",
   "name": "python",
   "nbconvert_exporter": "python",
   "pygments_lexer": "ipython3",
   "version": "3.7.3"
  }
 },
 "nbformat": 4,
 "nbformat_minor": 2
}
